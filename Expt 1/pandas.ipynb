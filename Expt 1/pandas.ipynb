{
 "cells": [
  {
   "cell_type": "markdown",
   "metadata": {},
   "source": [
    "# Pandas"
   ]
  },
  {
   "cell_type": "code",
   "execution_count": 1,
   "metadata": {},
   "outputs": [],
   "source": [
    "import pandas as pd\n",
    "import numpy as np"
   ]
  },
  {
   "cell_type": "markdown",
   "metadata": {},
   "source": [
    "## Series"
   ]
  },
  {
   "cell_type": "markdown",
   "metadata": {},
   "source": [
    "### Basic Init"
   ]
  },
  {
   "cell_type": "markdown",
   "metadata": {},
   "source": [
    "a. Using Lists"
   ]
  },
  {
   "cell_type": "code",
   "execution_count": 2,
   "metadata": {},
   "outputs": [],
   "source": [
    "s = pd.Series([\"India\",\"USA\",\"Russia\",\"Norway\",\"China\",\"UK\"], index=['a', 'b', 'c', 'd', 'e', 'f'], name=\"Numbers\")\n",
    "# index is optional, by default, a 0-n index will be given"
   ]
  },
  {
   "cell_type": "code",
   "execution_count": 3,
   "metadata": {},
   "outputs": [
    {
     "data": {
      "text/plain": [
       "a     India\n",
       "b       USA\n",
       "c    Russia\n",
       "d    Norway\n",
       "e     China\n",
       "f        UK\n",
       "Name: Numbers, dtype: object"
      ]
     },
     "execution_count": 3,
     "metadata": {},
     "output_type": "execute_result"
    }
   ],
   "source": [
    "s"
   ]
  },
  {
   "cell_type": "markdown",
   "metadata": {},
   "source": [
    "b. Using a dictionary"
   ]
  },
  {
   "cell_type": "code",
   "execution_count": 4,
   "metadata": {},
   "outputs": [],
   "source": [
    "d = pd.Series({'x': 9, 'y': 8, 'z': 7}, name='bruh')"
   ]
  },
  {
   "cell_type": "code",
   "execution_count": 5,
   "metadata": {},
   "outputs": [
    {
     "data": {
      "text/plain": [
       "x    9\n",
       "y    8\n",
       "z    7\n",
       "Name: bruh, dtype: int64"
      ]
     },
     "execution_count": 5,
     "metadata": {},
     "output_type": "execute_result"
    }
   ],
   "source": [
    "d"
   ]
  },
  {
   "cell_type": "markdown",
   "metadata": {},
   "source": [
    "c. Using a CSV file"
   ]
  },
  {
   "cell_type": "code",
   "execution_count": 6,
   "metadata": {},
   "outputs": [
    {
     "data": {
      "text/plain": [
       "0       9.9974\n",
       "1      10.5556\n",
       "2       9.9014\n",
       "3      11.4800\n",
       "4      12.8460\n",
       "        ...   \n",
       "565    11.3840\n",
       "566     9.8630\n",
       "567    10.8450\n",
       "568    10.4020\n",
       "569    10.3060\n",
       "Name: Flood, Length: 570, dtype: float64"
      ]
     },
     "execution_count": 6,
     "metadata": {},
     "output_type": "execute_result"
    }
   ],
   "source": [
    "df = pd.read_csv(\"data/nile.csv\")['Flood']\n",
    "df"
   ]
  },
  {
   "cell_type": "code",
   "execution_count": 7,
   "metadata": {},
   "outputs": [
    {
     "data": {
      "text/plain": [
       "0     9.9974\n",
       "1    10.5556\n",
       "2     9.9014\n",
       "3    11.4800\n",
       "4    12.8460\n",
       "Name: Flood, dtype: float64"
      ]
     },
     "execution_count": 7,
     "metadata": {},
     "output_type": "execute_result"
    }
   ],
   "source": [
    "df.head()"
   ]
  },
  {
   "cell_type": "markdown",
   "metadata": {},
   "source": [
    "d. Using another Series"
   ]
  },
  {
   "cell_type": "code",
   "execution_count": 8,
   "metadata": {},
   "outputs": [],
   "source": [
    "p = pd.Series(s,index=['a','c','d','f'])"
   ]
  },
  {
   "cell_type": "code",
   "execution_count": 9,
   "metadata": {},
   "outputs": [
    {
     "data": {
      "text/plain": [
       "a     India\n",
       "c    Russia\n",
       "d    Norway\n",
       "f        UK\n",
       "Name: Numbers, dtype: object"
      ]
     },
     "execution_count": 9,
     "metadata": {},
     "output_type": "execute_result"
    }
   ],
   "source": [
    "p"
   ]
  },
  {
   "cell_type": "markdown",
   "metadata": {},
   "source": [
    "### Basic properties"
   ]
  },
  {
   "cell_type": "code",
   "execution_count": 10,
   "metadata": {},
   "outputs": [
    {
     "data": {
      "text/plain": [
       "'Numbers'"
      ]
     },
     "execution_count": 10,
     "metadata": {},
     "output_type": "execute_result"
    }
   ],
   "source": [
    "s.name"
   ]
  },
  {
   "cell_type": "code",
   "execution_count": 11,
   "metadata": {},
   "outputs": [
    {
     "data": {
      "text/plain": [
       "dtype('O')"
      ]
     },
     "execution_count": 11,
     "metadata": {},
     "output_type": "execute_result"
    }
   ],
   "source": [
    "s.dtype"
   ]
  },
  {
   "cell_type": "code",
   "execution_count": 12,
   "metadata": {},
   "outputs": [
    {
     "data": {
      "text/plain": [
       "array(['India', 'USA', 'Russia', 'Norway', 'China', 'UK'], dtype=object)"
      ]
     },
     "execution_count": 12,
     "metadata": {},
     "output_type": "execute_result"
    }
   ],
   "source": [
    "s.values"
   ]
  },
  {
   "cell_type": "code",
   "execution_count": 13,
   "metadata": {},
   "outputs": [
    {
     "data": {
      "text/plain": [
       "Index(['a', 'b', 'c', 'd', 'e', 'f'], dtype='object')"
      ]
     },
     "execution_count": 13,
     "metadata": {},
     "output_type": "execute_result"
    }
   ],
   "source": [
    "s.index"
   ]
  },
  {
   "cell_type": "code",
   "execution_count": 14,
   "metadata": {},
   "outputs": [
    {
     "data": {
      "text/plain": [
       "India     1\n",
       "USA       1\n",
       "Russia    1\n",
       "Norway    1\n",
       "China     1\n",
       "UK        1\n",
       "Name: Numbers, dtype: int64"
      ]
     },
     "execution_count": 14,
     "metadata": {},
     "output_type": "execute_result"
    }
   ],
   "source": [
    "s.value_counts()"
   ]
  },
  {
   "cell_type": "markdown",
   "metadata": {},
   "source": [
    "### Accessing & Modifying data\n",
    "\n",
    "When it comes to accessing and modifying data, we treat it like a dict"
   ]
  },
  {
   "cell_type": "code",
   "execution_count": 15,
   "metadata": {},
   "outputs": [
    {
     "data": {
      "text/plain": [
       "'India'"
      ]
     },
     "execution_count": 15,
     "metadata": {},
     "output_type": "execute_result"
    }
   ],
   "source": [
    "s['a'] "
   ]
  },
  {
   "cell_type": "code",
   "execution_count": 16,
   "metadata": {},
   "outputs": [
    {
     "data": {
      "text/plain": [
       "8"
      ]
     },
     "execution_count": 16,
     "metadata": {},
     "output_type": "execute_result"
    }
   ],
   "source": [
    "d.iloc[1]"
   ]
  },
  {
   "cell_type": "markdown",
   "metadata": {},
   "source": [
    "We can select multiple at once"
   ]
  },
  {
   "cell_type": "code",
   "execution_count": 17,
   "metadata": {},
   "outputs": [
    {
     "data": {
      "text/plain": [
       "a     India\n",
       "c    Russia\n",
       "f        UK\n",
       "Name: Numbers, dtype: object"
      ]
     },
     "execution_count": 17,
     "metadata": {},
     "output_type": "execute_result"
    }
   ],
   "source": [
    "s[['a','c','f']]"
   ]
  },
  {
   "cell_type": "code",
   "execution_count": 18,
   "metadata": {},
   "outputs": [
    {
     "data": {
      "text/plain": [
       "60    9.2280\n",
       "61    9.5736\n",
       "63    9.0922\n",
       "69    8.9578\n",
       "Name: Flood, dtype: float64"
      ]
     },
     "execution_count": 18,
     "metadata": {},
     "output_type": "execute_result"
    }
   ],
   "source": [
    "df.iloc[[60, 61, 63, 69]]\n"
   ]
  },
  {
   "cell_type": "markdown",
   "metadata": {},
   "source": [
    "Slicing also works"
   ]
  },
  {
   "cell_type": "code",
   "execution_count": 19,
   "metadata": {},
   "outputs": [
    {
     "data": {
      "text/plain": [
       "b       USA\n",
       "c    Russia\n",
       "d    Norway\n",
       "e     China\n",
       "Name: Numbers, dtype: object"
      ]
     },
     "execution_count": 19,
     "metadata": {},
     "output_type": "execute_result"
    }
   ],
   "source": [
    "s['b':'e']"
   ]
  },
  {
   "cell_type": "code",
   "execution_count": 20,
   "metadata": {},
   "outputs": [
    {
     "data": {
      "text/plain": [
       "50     9.0730\n",
       "51     9.2664\n",
       "52     9.7670\n",
       "53    10.3060\n",
       "Name: Flood, dtype: float64"
      ]
     },
     "execution_count": 20,
     "metadata": {},
     "output_type": "execute_result"
    }
   ],
   "source": [
    "df.iloc[50:54]"
   ]
  },
  {
   "cell_type": "markdown",
   "metadata": {},
   "source": [
    "We can also use conditonal selection with boolean arrays"
   ]
  },
  {
   "cell_type": "code",
   "execution_count": 21,
   "metadata": {},
   "outputs": [
    {
     "data": {
      "text/plain": [
       "x     True\n",
       "y    False\n",
       "z    False\n",
       "Name: bruh, dtype: bool"
      ]
     },
     "execution_count": 21,
     "metadata": {},
     "output_type": "execute_result"
    }
   ],
   "source": [
    "d>8"
   ]
  },
  {
   "cell_type": "code",
   "execution_count": 22,
   "metadata": {},
   "outputs": [
    {
     "data": {
      "text/plain": [
       "x    9\n",
       "y    8\n",
       "Name: bruh, dtype: int64"
      ]
     },
     "execution_count": 22,
     "metadata": {},
     "output_type": "execute_result"
    }
   ],
   "source": [
    "d[d>=8]"
   ]
  },
  {
   "cell_type": "code",
   "execution_count": 23,
   "metadata": {},
   "outputs": [
    {
     "data": {
      "text/plain": [
       "x    10\n",
       "y     8\n",
       "z     7\n",
       "Name: bruh, dtype: int64"
      ]
     },
     "execution_count": 23,
     "metadata": {},
     "output_type": "execute_result"
    }
   ],
   "source": [
    "d['x'] = 10\n",
    "d"
   ]
  },
  {
   "cell_type": "code",
   "execution_count": 24,
   "metadata": {},
   "outputs": [
    {
     "data": {
      "text/plain": [
       "x    10\n",
       "y     8\n",
       "z    12\n",
       "Name: bruh, dtype: int64"
      ]
     },
     "execution_count": 24,
     "metadata": {},
     "output_type": "execute_result"
    }
   ],
   "source": [
    "d.iloc[2] = 12\n",
    "d"
   ]
  },
  {
   "cell_type": "code",
   "execution_count": 25,
   "metadata": {},
   "outputs": [
    {
     "data": {
      "text/plain": [
       "x    5\n",
       "y    8\n",
       "z    7\n",
       "Name: bruh, dtype: int64"
      ]
     },
     "execution_count": 25,
     "metadata": {},
     "output_type": "execute_result"
    }
   ],
   "source": [
    "d[d >= 10] = d-5\n",
    "d"
   ]
  },
  {
   "cell_type": "markdown",
   "metadata": {},
   "source": [
    "### Functions"
   ]
  },
  {
   "cell_type": "code",
   "execution_count": 26,
   "metadata": {},
   "outputs": [
    {
     "data": {
      "text/plain": [
       "10.780632631578943"
      ]
     },
     "execution_count": 26,
     "metadata": {},
     "output_type": "execute_result"
    }
   ],
   "source": [
    "df.mean()"
   ]
  },
  {
   "cell_type": "code",
   "execution_count": 27,
   "metadata": {},
   "outputs": [
    {
     "data": {
      "text/plain": [
       "0.8836778665316819"
      ]
     },
     "execution_count": 27,
     "metadata": {},
     "output_type": "execute_result"
    }
   ],
   "source": [
    "df.std()"
   ]
  },
  {
   "cell_type": "code",
   "execution_count": 28,
   "metadata": {},
   "outputs": [
    {
     "data": {
      "text/plain": [
       "0      2.302325\n",
       "1      2.356657\n",
       "2      2.292676\n",
       "3      2.440606\n",
       "4      2.553032\n",
       "         ...   \n",
       "565    2.432209\n",
       "566    2.288790\n",
       "567    2.383704\n",
       "568    2.341998\n",
       "569    2.332726\n",
       "Name: Flood, Length: 570, dtype: float64"
      ]
     },
     "execution_count": 28,
     "metadata": {},
     "output_type": "execute_result"
    }
   ],
   "source": [
    "np.log(df)\n"
   ]
  },
  {
   "cell_type": "markdown",
   "metadata": {},
   "source": [
    "## Dataframes"
   ]
  },
  {
   "cell_type": "markdown",
   "metadata": {},
   "source": [
    "### Basic init"
   ]
  },
  {
   "cell_type": "markdown",
   "metadata": {},
   "source": [
    "a. Using CSV"
   ]
  },
  {
   "cell_type": "code",
   "execution_count": 29,
   "metadata": {},
   "outputs": [
    {
     "data": {
      "text/html": [
       "<div>\n",
       "<style scoped>\n",
       "    .dataframe tbody tr th:only-of-type {\n",
       "        vertical-align: middle;\n",
       "    }\n",
       "\n",
       "    .dataframe tbody tr th {\n",
       "        vertical-align: top;\n",
       "    }\n",
       "\n",
       "    .dataframe thead th {\n",
       "        text-align: right;\n",
       "    }\n",
       "</style>\n",
       "<table border=\"1\" class=\"dataframe\">\n",
       "  <thead>\n",
       "    <tr style=\"text-align: right;\">\n",
       "      <th></th>\n",
       "      <th>Index</th>\n",
       "      <th>Year</th>\n",
       "      <th>Age</th>\n",
       "      <th>Name</th>\n",
       "      <th>Movie</th>\n",
       "    </tr>\n",
       "  </thead>\n",
       "  <tbody>\n",
       "    <tr>\n",
       "      <th>0</th>\n",
       "      <td>1</td>\n",
       "      <td>1928</td>\n",
       "      <td>44</td>\n",
       "      <td>Emil Jannings</td>\n",
       "      <td>The Last Command, The Way of All Flesh</td>\n",
       "    </tr>\n",
       "    <tr>\n",
       "      <th>1</th>\n",
       "      <td>2</td>\n",
       "      <td>1929</td>\n",
       "      <td>41</td>\n",
       "      <td>Warner Baxter</td>\n",
       "      <td>In Old Arizona</td>\n",
       "    </tr>\n",
       "    <tr>\n",
       "      <th>2</th>\n",
       "      <td>3</td>\n",
       "      <td>1930</td>\n",
       "      <td>62</td>\n",
       "      <td>George Arliss</td>\n",
       "      <td>Disraeli</td>\n",
       "    </tr>\n",
       "    <tr>\n",
       "      <th>3</th>\n",
       "      <td>4</td>\n",
       "      <td>1931</td>\n",
       "      <td>53</td>\n",
       "      <td>Lionel Barrymore</td>\n",
       "      <td>A Free Soul</td>\n",
       "    </tr>\n",
       "    <tr>\n",
       "      <th>4</th>\n",
       "      <td>5</td>\n",
       "      <td>1932</td>\n",
       "      <td>47</td>\n",
       "      <td>Wallace Beery</td>\n",
       "      <td>The Champ</td>\n",
       "    </tr>\n",
       "    <tr>\n",
       "      <th>...</th>\n",
       "      <td>...</td>\n",
       "      <td>...</td>\n",
       "      <td>...</td>\n",
       "      <td>...</td>\n",
       "      <td>...</td>\n",
       "    </tr>\n",
       "    <tr>\n",
       "      <th>84</th>\n",
       "      <td>85</td>\n",
       "      <td>2012</td>\n",
       "      <td>39</td>\n",
       "      <td>Jean Dujardin</td>\n",
       "      <td>The Artist</td>\n",
       "    </tr>\n",
       "    <tr>\n",
       "      <th>85</th>\n",
       "      <td>86</td>\n",
       "      <td>2013</td>\n",
       "      <td>55</td>\n",
       "      <td>Daniel Day-Lewis</td>\n",
       "      <td>Lincoln</td>\n",
       "    </tr>\n",
       "    <tr>\n",
       "      <th>86</th>\n",
       "      <td>87</td>\n",
       "      <td>2014</td>\n",
       "      <td>44</td>\n",
       "      <td>Matthew McConaughey</td>\n",
       "      <td>Dallas Buyers Club</td>\n",
       "    </tr>\n",
       "    <tr>\n",
       "      <th>87</th>\n",
       "      <td>88</td>\n",
       "      <td>2015</td>\n",
       "      <td>33</td>\n",
       "      <td>Eddie Redmayne</td>\n",
       "      <td>The Theory of Everything\\t</td>\n",
       "    </tr>\n",
       "    <tr>\n",
       "      <th>88</th>\n",
       "      <td>89</td>\n",
       "      <td>2016</td>\n",
       "      <td>41</td>\n",
       "      <td>Leonardo DiCaprio</td>\n",
       "      <td>The Revenant</td>\n",
       "    </tr>\n",
       "  </tbody>\n",
       "</table>\n",
       "<p>89 rows × 5 columns</p>\n",
       "</div>"
      ],
      "text/plain": [
       "    Index  Year  Age                 Name  \\\n",
       "0       1  1928   44        Emil Jannings   \n",
       "1       2  1929   41        Warner Baxter   \n",
       "2       3  1930   62        George Arliss   \n",
       "3       4  1931   53     Lionel Barrymore   \n",
       "4       5  1932   47        Wallace Beery   \n",
       "..    ...   ...  ...                  ...   \n",
       "84     85  2012   39        Jean Dujardin   \n",
       "85     86  2013   55     Daniel Day-Lewis   \n",
       "86     87  2014   44  Matthew McConaughey   \n",
       "87     88  2015   33       Eddie Redmayne   \n",
       "88     89  2016   41    Leonardo DiCaprio   \n",
       "\n",
       "                                     Movie  \n",
       "0   The Last Command, The Way of All Flesh  \n",
       "1                           In Old Arizona  \n",
       "2                                 Disraeli  \n",
       "3                              A Free Soul  \n",
       "4                                The Champ  \n",
       "..                                     ...  \n",
       "84                              The Artist  \n",
       "85                                 Lincoln  \n",
       "86                      Dallas Buyers Club  \n",
       "87              The Theory of Everything\\t  \n",
       "88                            The Revenant  \n",
       "\n",
       "[89 rows x 5 columns]"
      ]
     },
     "execution_count": 29,
     "metadata": {},
     "output_type": "execute_result"
    }
   ],
   "source": [
    "df = pd.read_csv(\"data/oscar_age_male.csv\")\n",
    "df"
   ]
  },
  {
   "cell_type": "markdown",
   "metadata": {},
   "source": [
    "b. Using a dict of {column:list}"
   ]
  },
  {
   "cell_type": "code",
   "execution_count": 30,
   "metadata": {},
   "outputs": [
    {
     "data": {
      "text/html": [
       "<div>\n",
       "<style scoped>\n",
       "    .dataframe tbody tr th:only-of-type {\n",
       "        vertical-align: middle;\n",
       "    }\n",
       "\n",
       "    .dataframe tbody tr th {\n",
       "        vertical-align: top;\n",
       "    }\n",
       "\n",
       "    .dataframe thead th {\n",
       "        text-align: right;\n",
       "    }\n",
       "</style>\n",
       "<table border=\"1\" class=\"dataframe\">\n",
       "  <thead>\n",
       "    <tr style=\"text-align: right;\">\n",
       "      <th></th>\n",
       "      <th>Name</th>\n",
       "      <th>Score</th>\n",
       "      <th>Continent</th>\n",
       "    </tr>\n",
       "  </thead>\n",
       "  <tbody>\n",
       "    <tr>\n",
       "      <th>0</th>\n",
       "      <td>Hardik</td>\n",
       "      <td>1785387</td>\n",
       "      <td>America</td>\n",
       "    </tr>\n",
       "    <tr>\n",
       "      <th>1</th>\n",
       "      <td>John</td>\n",
       "      <td>2833687</td>\n",
       "      <td>Europe</td>\n",
       "    </tr>\n",
       "    <tr>\n",
       "      <th>2</th>\n",
       "      <td>Mark</td>\n",
       "      <td>3874437</td>\n",
       "      <td>Europe</td>\n",
       "    </tr>\n",
       "    <tr>\n",
       "      <th>3</th>\n",
       "      <td>Steve</td>\n",
       "      <td>2167744</td>\n",
       "      <td>Europe</td>\n",
       "    </tr>\n",
       "    <tr>\n",
       "      <th>4</th>\n",
       "      <td>Ak</td>\n",
       "      <td>4602367</td>\n",
       "      <td>Asia</td>\n",
       "    </tr>\n",
       "    <tr>\n",
       "      <th>5</th>\n",
       "      <td>priti</td>\n",
       "      <td>2950039</td>\n",
       "      <td>Europe</td>\n",
       "    </tr>\n",
       "    <tr>\n",
       "      <th>6</th>\n",
       "      <td>Tanmay</td>\n",
       "      <td>17348075</td>\n",
       "      <td>America</td>\n",
       "    </tr>\n",
       "  </tbody>\n",
       "</table>\n",
       "</div>"
      ],
      "text/plain": [
       "     Name     Score Continent\n",
       "0  Hardik   1785387   America\n",
       "1    John   2833687    Europe\n",
       "2    Mark   3874437    Europe\n",
       "3   Steve   2167744    Europe\n",
       "4      Ak   4602367      Asia\n",
       "5   priti   2950039    Europe\n",
       "6  Tanmay  17348075   America"
      ]
     },
     "execution_count": 30,
     "metadata": {},
     "output_type": "execute_result"
    }
   ],
   "source": [
    "sdf = pd.DataFrame({'Name':\n",
    "                   ['Hardik', 'John', \"Mark\", 'Steve', \"Ak\", \"priti\", \"Tanmay\"],\n",
    "                   'Score': [\n",
    "                       1785387,\n",
    "                       2833687,\n",
    "                       3874437,\n",
    "                       2167744,\n",
    "                       4602367,\n",
    "                       2950039,\n",
    "                       17348075\n",
    "                   ],\n",
    "                   'Continent': [\n",
    "                       'America',\n",
    "                       'Europe',\n",
    "                       'Europe',\n",
    "                       'Europe',\n",
    "                       'Asia',\n",
    "                       'Europe',\n",
    "                       'America'\n",
    "                   ]}, columns=['Name', 'Score', 'Continent'])\n",
    "sdf"
   ]
  },
  {
   "cell_type": "code",
   "execution_count": 31,
   "metadata": {},
   "outputs": [],
   "source": [
    "sdf.index = sdf['Name'].values"
   ]
  },
  {
   "cell_type": "code",
   "execution_count": 32,
   "metadata": {},
   "outputs": [
    {
     "data": {
      "text/html": [
       "<div>\n",
       "<style scoped>\n",
       "    .dataframe tbody tr th:only-of-type {\n",
       "        vertical-align: middle;\n",
       "    }\n",
       "\n",
       "    .dataframe tbody tr th {\n",
       "        vertical-align: top;\n",
       "    }\n",
       "\n",
       "    .dataframe thead th {\n",
       "        text-align: right;\n",
       "    }\n",
       "</style>\n",
       "<table border=\"1\" class=\"dataframe\">\n",
       "  <thead>\n",
       "    <tr style=\"text-align: right;\">\n",
       "      <th></th>\n",
       "      <th>Name</th>\n",
       "      <th>Score</th>\n",
       "      <th>Continent</th>\n",
       "    </tr>\n",
       "  </thead>\n",
       "  <tbody>\n",
       "    <tr>\n",
       "      <th>Hardik</th>\n",
       "      <td>Hardik</td>\n",
       "      <td>1785387</td>\n",
       "      <td>America</td>\n",
       "    </tr>\n",
       "    <tr>\n",
       "      <th>John</th>\n",
       "      <td>John</td>\n",
       "      <td>2833687</td>\n",
       "      <td>Europe</td>\n",
       "    </tr>\n",
       "    <tr>\n",
       "      <th>Mark</th>\n",
       "      <td>Mark</td>\n",
       "      <td>3874437</td>\n",
       "      <td>Europe</td>\n",
       "    </tr>\n",
       "    <tr>\n",
       "      <th>Steve</th>\n",
       "      <td>Steve</td>\n",
       "      <td>2167744</td>\n",
       "      <td>Europe</td>\n",
       "    </tr>\n",
       "    <tr>\n",
       "      <th>Ak</th>\n",
       "      <td>Ak</td>\n",
       "      <td>4602367</td>\n",
       "      <td>Asia</td>\n",
       "    </tr>\n",
       "    <tr>\n",
       "      <th>priti</th>\n",
       "      <td>priti</td>\n",
       "      <td>2950039</td>\n",
       "      <td>Europe</td>\n",
       "    </tr>\n",
       "    <tr>\n",
       "      <th>Tanmay</th>\n",
       "      <td>Tanmay</td>\n",
       "      <td>17348075</td>\n",
       "      <td>America</td>\n",
       "    </tr>\n",
       "  </tbody>\n",
       "</table>\n",
       "</div>"
      ],
      "text/plain": [
       "          Name     Score Continent\n",
       "Hardik  Hardik   1785387   America\n",
       "John      John   2833687    Europe\n",
       "Mark      Mark   3874437    Europe\n",
       "Steve    Steve   2167744    Europe\n",
       "Ak          Ak   4602367      Asia\n",
       "priti    priti   2950039    Europe\n",
       "Tanmay  Tanmay  17348075   America"
      ]
     },
     "execution_count": 32,
     "metadata": {},
     "output_type": "execute_result"
    }
   ],
   "source": [
    "sdf"
   ]
  },
  {
   "cell_type": "code",
   "execution_count": 33,
   "metadata": {},
   "outputs": [],
   "source": [
    "del sdf['Name']"
   ]
  },
  {
   "cell_type": "code",
   "execution_count": 34,
   "metadata": {},
   "outputs": [
    {
     "data": {
      "text/html": [
       "<div>\n",
       "<style scoped>\n",
       "    .dataframe tbody tr th:only-of-type {\n",
       "        vertical-align: middle;\n",
       "    }\n",
       "\n",
       "    .dataframe tbody tr th {\n",
       "        vertical-align: top;\n",
       "    }\n",
       "\n",
       "    .dataframe thead th {\n",
       "        text-align: right;\n",
       "    }\n",
       "</style>\n",
       "<table border=\"1\" class=\"dataframe\">\n",
       "  <thead>\n",
       "    <tr style=\"text-align: right;\">\n",
       "      <th></th>\n",
       "      <th>Score</th>\n",
       "      <th>Continent</th>\n",
       "    </tr>\n",
       "  </thead>\n",
       "  <tbody>\n",
       "    <tr>\n",
       "      <th>Hardik</th>\n",
       "      <td>1785387</td>\n",
       "      <td>America</td>\n",
       "    </tr>\n",
       "    <tr>\n",
       "      <th>John</th>\n",
       "      <td>2833687</td>\n",
       "      <td>Europe</td>\n",
       "    </tr>\n",
       "    <tr>\n",
       "      <th>Mark</th>\n",
       "      <td>3874437</td>\n",
       "      <td>Europe</td>\n",
       "    </tr>\n",
       "    <tr>\n",
       "      <th>Steve</th>\n",
       "      <td>2167744</td>\n",
       "      <td>Europe</td>\n",
       "    </tr>\n",
       "    <tr>\n",
       "      <th>Ak</th>\n",
       "      <td>4602367</td>\n",
       "      <td>Asia</td>\n",
       "    </tr>\n",
       "    <tr>\n",
       "      <th>priti</th>\n",
       "      <td>2950039</td>\n",
       "      <td>Europe</td>\n",
       "    </tr>\n",
       "    <tr>\n",
       "      <th>Tanmay</th>\n",
       "      <td>17348075</td>\n",
       "      <td>America</td>\n",
       "    </tr>\n",
       "  </tbody>\n",
       "</table>\n",
       "</div>"
      ],
      "text/plain": [
       "           Score Continent\n",
       "Hardik   1785387   America\n",
       "John     2833687    Europe\n",
       "Mark     3874437    Europe\n",
       "Steve    2167744    Europe\n",
       "Ak       4602367      Asia\n",
       "priti    2950039    Europe\n",
       "Tanmay  17348075   America"
      ]
     },
     "execution_count": 34,
     "metadata": {},
     "output_type": "execute_result"
    }
   ],
   "source": [
    "sdf"
   ]
  },
  {
   "cell_type": "code",
   "execution_count": 35,
   "metadata": {},
   "outputs": [],
   "source": [
    "# sdf.index = np.arange(sdf.shape[0])\n"
   ]
  },
  {
   "cell_type": "code",
   "execution_count": 36,
   "metadata": {},
   "outputs": [],
   "source": [
    "# sdf"
   ]
  },
  {
   "cell_type": "code",
   "execution_count": 37,
   "metadata": {},
   "outputs": [
    {
     "data": {
      "text/plain": [
       "445"
      ]
     },
     "execution_count": 37,
     "metadata": {},
     "output_type": "execute_result"
    }
   ],
   "source": [
    "df.size"
   ]
  },
  {
   "cell_type": "code",
   "execution_count": 38,
   "metadata": {},
   "outputs": [
    {
     "data": {
      "text/plain": [
       "(89, 5)"
      ]
     },
     "execution_count": 38,
     "metadata": {},
     "output_type": "execute_result"
    }
   ],
   "source": [
    "df.shape"
   ]
  },
  {
   "cell_type": "code",
   "execution_count": 39,
   "metadata": {},
   "outputs": [
    {
     "data": {
      "text/html": [
       "<div>\n",
       "<style scoped>\n",
       "    .dataframe tbody tr th:only-of-type {\n",
       "        vertical-align: middle;\n",
       "    }\n",
       "\n",
       "    .dataframe tbody tr th {\n",
       "        vertical-align: top;\n",
       "    }\n",
       "\n",
       "    .dataframe thead th {\n",
       "        text-align: right;\n",
       "    }\n",
       "</style>\n",
       "<table border=\"1\" class=\"dataframe\">\n",
       "  <thead>\n",
       "    <tr style=\"text-align: right;\">\n",
       "      <th></th>\n",
       "      <th>Index</th>\n",
       "      <th>Year</th>\n",
       "      <th>Age</th>\n",
       "    </tr>\n",
       "  </thead>\n",
       "  <tbody>\n",
       "    <tr>\n",
       "      <th>count</th>\n",
       "      <td>89.000000</td>\n",
       "      <td>89.000000</td>\n",
       "      <td>89.000000</td>\n",
       "    </tr>\n",
       "    <tr>\n",
       "      <th>mean</th>\n",
       "      <td>45.000000</td>\n",
       "      <td>1972.000000</td>\n",
       "      <td>43.876404</td>\n",
       "    </tr>\n",
       "    <tr>\n",
       "      <th>std</th>\n",
       "      <td>25.836021</td>\n",
       "      <td>25.836021</td>\n",
       "      <td>8.818653</td>\n",
       "    </tr>\n",
       "    <tr>\n",
       "      <th>min</th>\n",
       "      <td>1.000000</td>\n",
       "      <td>1928.000000</td>\n",
       "      <td>29.000000</td>\n",
       "    </tr>\n",
       "    <tr>\n",
       "      <th>25%</th>\n",
       "      <td>23.000000</td>\n",
       "      <td>1950.000000</td>\n",
       "      <td>38.000000</td>\n",
       "    </tr>\n",
       "    <tr>\n",
       "      <th>50%</th>\n",
       "      <td>45.000000</td>\n",
       "      <td>1972.000000</td>\n",
       "      <td>42.000000</td>\n",
       "    </tr>\n",
       "    <tr>\n",
       "      <th>75%</th>\n",
       "      <td>67.000000</td>\n",
       "      <td>1994.000000</td>\n",
       "      <td>49.000000</td>\n",
       "    </tr>\n",
       "    <tr>\n",
       "      <th>max</th>\n",
       "      <td>89.000000</td>\n",
       "      <td>2016.000000</td>\n",
       "      <td>76.000000</td>\n",
       "    </tr>\n",
       "  </tbody>\n",
       "</table>\n",
       "</div>"
      ],
      "text/plain": [
       "           Index         Year        Age\n",
       "count  89.000000    89.000000  89.000000\n",
       "mean   45.000000  1972.000000  43.876404\n",
       "std    25.836021    25.836021   8.818653\n",
       "min     1.000000  1928.000000  29.000000\n",
       "25%    23.000000  1950.000000  38.000000\n",
       "50%    45.000000  1972.000000  42.000000\n",
       "75%    67.000000  1994.000000  49.000000\n",
       "max    89.000000  2016.000000  76.000000"
      ]
     },
     "execution_count": 39,
     "metadata": {},
     "output_type": "execute_result"
    }
   ],
   "source": [
    "df.describe()"
   ]
  },
  {
   "cell_type": "code",
   "execution_count": 40,
   "metadata": {},
   "outputs": [
    {
     "data": {
      "text/plain": [
       "Index     int64\n",
       "Year      int64\n",
       "Age       int64\n",
       "Name     object\n",
       "Movie    object\n",
       "dtype: object"
      ]
     },
     "execution_count": 40,
     "metadata": {},
     "output_type": "execute_result"
    }
   ],
   "source": [
    "df.dtypes"
   ]
  },
  {
   "cell_type": "markdown",
   "metadata": {},
   "source": [
    "### Indexing and Slicing"
   ]
  },
  {
   "cell_type": "code",
   "execution_count": 41,
   "metadata": {},
   "outputs": [
    {
     "data": {
      "text/plain": [
       "Score        2167744\n",
       "Continent     Europe\n",
       "Name: Steve, dtype: object"
      ]
     },
     "execution_count": 41,
     "metadata": {},
     "output_type": "execute_result"
    }
   ],
   "source": [
    "sdf.loc['Steve']"
   ]
  },
  {
   "cell_type": "code",
   "execution_count": 42,
   "metadata": {},
   "outputs": [
    {
     "data": {
      "text/plain": [
       "Score        3874437\n",
       "Continent     Europe\n",
       "Name: Mark, dtype: object"
      ]
     },
     "execution_count": 42,
     "metadata": {},
     "output_type": "execute_result"
    }
   ],
   "source": [
    "sdf.iloc[2]"
   ]
  },
  {
   "cell_type": "code",
   "execution_count": 43,
   "metadata": {},
   "outputs": [
    {
     "data": {
      "text/plain": [
       "Score        17348075\n",
       "Continent     America\n",
       "Name: Tanmay, dtype: object"
      ]
     },
     "execution_count": 43,
     "metadata": {},
     "output_type": "execute_result"
    }
   ],
   "source": [
    "sdf.iloc[-1]"
   ]
  },
  {
   "cell_type": "code",
   "execution_count": 44,
   "metadata": {},
   "outputs": [],
   "source": [
    "ss = sdf['Continent']"
   ]
  },
  {
   "cell_type": "code",
   "execution_count": 45,
   "metadata": {},
   "outputs": [
    {
     "data": {
      "text/plain": [
       "array(['America', 'Europe', 'Europe', 'Europe', 'Asia', 'Europe',\n",
       "       'America'], dtype=object)"
      ]
     },
     "execution_count": 45,
     "metadata": {},
     "output_type": "execute_result"
    }
   ],
   "source": [
    "ss.values"
   ]
  },
  {
   "cell_type": "code",
   "execution_count": 46,
   "metadata": {},
   "outputs": [
    {
     "data": {
      "text/html": [
       "<div>\n",
       "<style scoped>\n",
       "    .dataframe tbody tr th:only-of-type {\n",
       "        vertical-align: middle;\n",
       "    }\n",
       "\n",
       "    .dataframe tbody tr th {\n",
       "        vertical-align: top;\n",
       "    }\n",
       "\n",
       "    .dataframe thead th {\n",
       "        text-align: right;\n",
       "    }\n",
       "</style>\n",
       "<table border=\"1\" class=\"dataframe\">\n",
       "  <thead>\n",
       "    <tr style=\"text-align: right;\">\n",
       "      <th></th>\n",
       "      <th>Index</th>\n",
       "      <th>Year</th>\n",
       "      <th>Age</th>\n",
       "      <th>Name</th>\n",
       "      <th>Movie</th>\n",
       "    </tr>\n",
       "  </thead>\n",
       "  <tbody>\n",
       "    <tr>\n",
       "      <th>0</th>\n",
       "      <td>1</td>\n",
       "      <td>1928</td>\n",
       "      <td>44</td>\n",
       "      <td>Emil Jannings</td>\n",
       "      <td>The Last Command, The Way of All Flesh</td>\n",
       "    </tr>\n",
       "    <tr>\n",
       "      <th>1</th>\n",
       "      <td>2</td>\n",
       "      <td>1929</td>\n",
       "      <td>41</td>\n",
       "      <td>Warner Baxter</td>\n",
       "      <td>In Old Arizona</td>\n",
       "    </tr>\n",
       "    <tr>\n",
       "      <th>2</th>\n",
       "      <td>3</td>\n",
       "      <td>1930</td>\n",
       "      <td>62</td>\n",
       "      <td>George Arliss</td>\n",
       "      <td>Disraeli</td>\n",
       "    </tr>\n",
       "    <tr>\n",
       "      <th>3</th>\n",
       "      <td>4</td>\n",
       "      <td>1931</td>\n",
       "      <td>53</td>\n",
       "      <td>Lionel Barrymore</td>\n",
       "      <td>A Free Soul</td>\n",
       "    </tr>\n",
       "    <tr>\n",
       "      <th>4</th>\n",
       "      <td>5</td>\n",
       "      <td>1932</td>\n",
       "      <td>47</td>\n",
       "      <td>Wallace Beery</td>\n",
       "      <td>The Champ</td>\n",
       "    </tr>\n",
       "    <tr>\n",
       "      <th>...</th>\n",
       "      <td>...</td>\n",
       "      <td>...</td>\n",
       "      <td>...</td>\n",
       "      <td>...</td>\n",
       "      <td>...</td>\n",
       "    </tr>\n",
       "    <tr>\n",
       "      <th>84</th>\n",
       "      <td>85</td>\n",
       "      <td>2012</td>\n",
       "      <td>39</td>\n",
       "      <td>Jean Dujardin</td>\n",
       "      <td>The Artist</td>\n",
       "    </tr>\n",
       "    <tr>\n",
       "      <th>85</th>\n",
       "      <td>86</td>\n",
       "      <td>2013</td>\n",
       "      <td>55</td>\n",
       "      <td>Daniel Day-Lewis</td>\n",
       "      <td>Lincoln</td>\n",
       "    </tr>\n",
       "    <tr>\n",
       "      <th>86</th>\n",
       "      <td>87</td>\n",
       "      <td>2014</td>\n",
       "      <td>44</td>\n",
       "      <td>Matthew McConaughey</td>\n",
       "      <td>Dallas Buyers Club</td>\n",
       "    </tr>\n",
       "    <tr>\n",
       "      <th>87</th>\n",
       "      <td>88</td>\n",
       "      <td>2015</td>\n",
       "      <td>33</td>\n",
       "      <td>Eddie Redmayne</td>\n",
       "      <td>The Theory of Everything\\t</td>\n",
       "    </tr>\n",
       "    <tr>\n",
       "      <th>88</th>\n",
       "      <td>89</td>\n",
       "      <td>2016</td>\n",
       "      <td>41</td>\n",
       "      <td>Leonardo DiCaprio</td>\n",
       "      <td>The Revenant</td>\n",
       "    </tr>\n",
       "  </tbody>\n",
       "</table>\n",
       "<p>89 rows × 5 columns</p>\n",
       "</div>"
      ],
      "text/plain": [
       "    Index  Year  Age                 Name  \\\n",
       "0       1  1928   44        Emil Jannings   \n",
       "1       2  1929   41        Warner Baxter   \n",
       "2       3  1930   62        George Arliss   \n",
       "3       4  1931   53     Lionel Barrymore   \n",
       "4       5  1932   47        Wallace Beery   \n",
       "..    ...   ...  ...                  ...   \n",
       "84     85  2012   39        Jean Dujardin   \n",
       "85     86  2013   55     Daniel Day-Lewis   \n",
       "86     87  2014   44  Matthew McConaughey   \n",
       "87     88  2015   33       Eddie Redmayne   \n",
       "88     89  2016   41    Leonardo DiCaprio   \n",
       "\n",
       "                                     Movie  \n",
       "0   The Last Command, The Way of All Flesh  \n",
       "1                           In Old Arizona  \n",
       "2                                 Disraeli  \n",
       "3                              A Free Soul  \n",
       "4                                The Champ  \n",
       "..                                     ...  \n",
       "84                              The Artist  \n",
       "85                                 Lincoln  \n",
       "86                      Dallas Buyers Club  \n",
       "87              The Theory of Everything\\t  \n",
       "88                            The Revenant  \n",
       "\n",
       "[89 rows x 5 columns]"
      ]
     },
     "execution_count": 46,
     "metadata": {},
     "output_type": "execute_result"
    }
   ],
   "source": [
    "df"
   ]
  },
  {
   "cell_type": "code",
   "execution_count": 47,
   "metadata": {},
   "outputs": [
    {
     "data": {
      "text/html": [
       "<div>\n",
       "<style scoped>\n",
       "    .dataframe tbody tr th:only-of-type {\n",
       "        vertical-align: middle;\n",
       "    }\n",
       "\n",
       "    .dataframe tbody tr th {\n",
       "        vertical-align: top;\n",
       "    }\n",
       "\n",
       "    .dataframe thead th {\n",
       "        text-align: right;\n",
       "    }\n",
       "</style>\n",
       "<table border=\"1\" class=\"dataframe\">\n",
       "  <thead>\n",
       "    <tr style=\"text-align: right;\">\n",
       "      <th></th>\n",
       "      <th>Year</th>\n",
       "      <th>Movie</th>\n",
       "    </tr>\n",
       "  </thead>\n",
       "  <tbody>\n",
       "    <tr>\n",
       "      <th>0</th>\n",
       "      <td>1928</td>\n",
       "      <td>The Last Command, The Way of All Flesh</td>\n",
       "    </tr>\n",
       "    <tr>\n",
       "      <th>1</th>\n",
       "      <td>1929</td>\n",
       "      <td>In Old Arizona</td>\n",
       "    </tr>\n",
       "    <tr>\n",
       "      <th>2</th>\n",
       "      <td>1930</td>\n",
       "      <td>Disraeli</td>\n",
       "    </tr>\n",
       "    <tr>\n",
       "      <th>3</th>\n",
       "      <td>1931</td>\n",
       "      <td>A Free Soul</td>\n",
       "    </tr>\n",
       "    <tr>\n",
       "      <th>4</th>\n",
       "      <td>1932</td>\n",
       "      <td>The Champ</td>\n",
       "    </tr>\n",
       "    <tr>\n",
       "      <th>...</th>\n",
       "      <td>...</td>\n",
       "      <td>...</td>\n",
       "    </tr>\n",
       "    <tr>\n",
       "      <th>84</th>\n",
       "      <td>2012</td>\n",
       "      <td>The Artist</td>\n",
       "    </tr>\n",
       "    <tr>\n",
       "      <th>85</th>\n",
       "      <td>2013</td>\n",
       "      <td>Lincoln</td>\n",
       "    </tr>\n",
       "    <tr>\n",
       "      <th>86</th>\n",
       "      <td>2014</td>\n",
       "      <td>Dallas Buyers Club</td>\n",
       "    </tr>\n",
       "    <tr>\n",
       "      <th>87</th>\n",
       "      <td>2015</td>\n",
       "      <td>The Theory of Everything\\t</td>\n",
       "    </tr>\n",
       "    <tr>\n",
       "      <th>88</th>\n",
       "      <td>2016</td>\n",
       "      <td>The Revenant</td>\n",
       "    </tr>\n",
       "  </tbody>\n",
       "</table>\n",
       "<p>89 rows × 2 columns</p>\n",
       "</div>"
      ],
      "text/plain": [
       "    Year                                   Movie\n",
       "0   1928  The Last Command, The Way of All Flesh\n",
       "1   1929                          In Old Arizona\n",
       "2   1930                                Disraeli\n",
       "3   1931                             A Free Soul\n",
       "4   1932                               The Champ\n",
       "..   ...                                     ...\n",
       "84  2012                              The Artist\n",
       "85  2013                                 Lincoln\n",
       "86  2014                      Dallas Buyers Club\n",
       "87  2015              The Theory of Everything\\t\n",
       "88  2016                            The Revenant\n",
       "\n",
       "[89 rows x 2 columns]"
      ]
     },
     "execution_count": 47,
     "metadata": {},
     "output_type": "execute_result"
    }
   ],
   "source": [
    "df[['Year','Movie']]"
   ]
  },
  {
   "cell_type": "code",
   "execution_count": 48,
   "metadata": {},
   "outputs": [
    {
     "data": {
      "text/html": [
       "<div>\n",
       "<style scoped>\n",
       "    .dataframe tbody tr th:only-of-type {\n",
       "        vertical-align: middle;\n",
       "    }\n",
       "\n",
       "    .dataframe tbody tr th {\n",
       "        vertical-align: top;\n",
       "    }\n",
       "\n",
       "    .dataframe thead th {\n",
       "        text-align: right;\n",
       "    }\n",
       "</style>\n",
       "<table border=\"1\" class=\"dataframe\">\n",
       "  <thead>\n",
       "    <tr style=\"text-align: right;\">\n",
       "      <th></th>\n",
       "      <th>Index</th>\n",
       "      <th>Year</th>\n",
       "      <th>Age</th>\n",
       "      <th>Name</th>\n",
       "      <th>Movie</th>\n",
       "    </tr>\n",
       "  </thead>\n",
       "  <tbody>\n",
       "    <tr>\n",
       "      <th>5</th>\n",
       "      <td>6</td>\n",
       "      <td>1933</td>\n",
       "      <td>35</td>\n",
       "      <td>Fredric March</td>\n",
       "      <td>Dr. Jekyll and Mr. Hyde</td>\n",
       "    </tr>\n",
       "    <tr>\n",
       "      <th>6</th>\n",
       "      <td>7</td>\n",
       "      <td>1934</td>\n",
       "      <td>34</td>\n",
       "      <td>Charles Laughton</td>\n",
       "      <td>The Private Life of Henry VIII</td>\n",
       "    </tr>\n",
       "    <tr>\n",
       "      <th>7</th>\n",
       "      <td>8</td>\n",
       "      <td>1935</td>\n",
       "      <td>34</td>\n",
       "      <td>Clark Gable</td>\n",
       "      <td>It Happened One Night</td>\n",
       "    </tr>\n",
       "    <tr>\n",
       "      <th>8</th>\n",
       "      <td>9</td>\n",
       "      <td>1936</td>\n",
       "      <td>49</td>\n",
       "      <td>Victor McLaglen</td>\n",
       "      <td>The Informer\\t</td>\n",
       "    </tr>\n",
       "    <tr>\n",
       "      <th>9</th>\n",
       "      <td>10</td>\n",
       "      <td>1937</td>\n",
       "      <td>41</td>\n",
       "      <td>Paul Muni</td>\n",
       "      <td>The Story of Louis Pasteur\\t</td>\n",
       "    </tr>\n",
       "    <tr>\n",
       "      <th>10</th>\n",
       "      <td>11</td>\n",
       "      <td>1938</td>\n",
       "      <td>37</td>\n",
       "      <td>Spencer Tracy</td>\n",
       "      <td>Captains Courageous</td>\n",
       "    </tr>\n",
       "  </tbody>\n",
       "</table>\n",
       "</div>"
      ],
      "text/plain": [
       "    Index  Year  Age              Name                           Movie\n",
       "5       6  1933   35     Fredric March         Dr. Jekyll and Mr. Hyde\n",
       "6       7  1934   34  Charles Laughton  The Private Life of Henry VIII\n",
       "7       8  1935   34       Clark Gable           It Happened One Night\n",
       "8       9  1936   49   Victor McLaglen                  The Informer\\t\n",
       "9      10  1937   41         Paul Muni    The Story of Louis Pasteur\\t\n",
       "10     11  1938   37     Spencer Tracy             Captains Courageous"
      ]
     },
     "execution_count": 48,
     "metadata": {},
     "output_type": "execute_result"
    }
   ],
   "source": [
    "df.loc[5:10]"
   ]
  },
  {
   "cell_type": "code",
   "execution_count": 55,
   "metadata": {},
   "outputs": [
    {
     "data": {
      "text/html": [
       "<div>\n",
       "<style scoped>\n",
       "    .dataframe tbody tr th:only-of-type {\n",
       "        vertical-align: middle;\n",
       "    }\n",
       "\n",
       "    .dataframe tbody tr th {\n",
       "        vertical-align: top;\n",
       "    }\n",
       "\n",
       "    .dataframe thead th {\n",
       "        text-align: right;\n",
       "    }\n",
       "</style>\n",
       "<table border=\"1\" class=\"dataframe\">\n",
       "  <thead>\n",
       "    <tr style=\"text-align: right;\">\n",
       "      <th></th>\n",
       "      <th>Age</th>\n",
       "      <th>Name</th>\n",
       "    </tr>\n",
       "  </thead>\n",
       "  <tbody>\n",
       "    <tr>\n",
       "      <th>6</th>\n",
       "      <td>34</td>\n",
       "      <td>Charles Laughton</td>\n",
       "    </tr>\n",
       "    <tr>\n",
       "      <th>7</th>\n",
       "      <td>34</td>\n",
       "      <td>Clark Gable</td>\n",
       "    </tr>\n",
       "    <tr>\n",
       "      <th>8</th>\n",
       "      <td>49</td>\n",
       "      <td>Victor McLaglen</td>\n",
       "    </tr>\n",
       "    <tr>\n",
       "      <th>9</th>\n",
       "      <td>41</td>\n",
       "      <td>Paul Muni</td>\n",
       "    </tr>\n",
       "    <tr>\n",
       "      <th>10</th>\n",
       "      <td>37</td>\n",
       "      <td>Spencer Tracy</td>\n",
       "    </tr>\n",
       "  </tbody>\n",
       "</table>\n",
       "</div>"
      ],
      "text/plain": [
       "    Age              Name\n",
       "6    34  Charles Laughton\n",
       "7    34       Clark Gable\n",
       "8    49   Victor McLaglen\n",
       "9    41         Paul Muni\n",
       "10   37     Spencer Tracy"
      ]
     },
     "execution_count": 55,
     "metadata": {},
     "output_type": "execute_result"
    }
   ],
   "source": [
    "a = df.loc[6:10, ['Age', 'Name']]\n",
    "a\n"
   ]
  },
  {
   "cell_type": "code",
   "execution_count": 54,
   "metadata": {},
   "outputs": [
    {
     "data": {
      "text/plain": [
       "pandas.core.frame.DataFrame"
      ]
     },
     "execution_count": 54,
     "metadata": {},
     "output_type": "execute_result"
    }
   ],
   "source": [
    "type(a)"
   ]
  },
  {
   "cell_type": "code",
   "execution_count": 56,
   "metadata": {},
   "outputs": [
    {
     "data": {
      "text/html": [
       "<div>\n",
       "<style scoped>\n",
       "    .dataframe tbody tr th:only-of-type {\n",
       "        vertical-align: middle;\n",
       "    }\n",
       "\n",
       "    .dataframe tbody tr th {\n",
       "        vertical-align: top;\n",
       "    }\n",
       "\n",
       "    .dataframe thead th {\n",
       "        text-align: right;\n",
       "    }\n",
       "</style>\n",
       "<table border=\"1\" class=\"dataframe\">\n",
       "  <thead>\n",
       "    <tr style=\"text-align: right;\">\n",
       "      <th></th>\n",
       "      <th>Index</th>\n",
       "      <th>Year</th>\n",
       "      <th>Age</th>\n",
       "      <th>Name</th>\n",
       "      <th>Movie</th>\n",
       "    </tr>\n",
       "  </thead>\n",
       "  <tbody>\n",
       "    <tr>\n",
       "      <th>0</th>\n",
       "      <td>1</td>\n",
       "      <td>1928</td>\n",
       "      <td>44</td>\n",
       "      <td>Emil Jannings</td>\n",
       "      <td>The Last Command, The Way of All Flesh</td>\n",
       "    </tr>\n",
       "    <tr>\n",
       "      <th>1</th>\n",
       "      <td>2</td>\n",
       "      <td>1929</td>\n",
       "      <td>41</td>\n",
       "      <td>Warner Baxter</td>\n",
       "      <td>In Old Arizona</td>\n",
       "    </tr>\n",
       "    <tr>\n",
       "      <th>2</th>\n",
       "      <td>3</td>\n",
       "      <td>1930</td>\n",
       "      <td>62</td>\n",
       "      <td>George Arliss</td>\n",
       "      <td>Disraeli</td>\n",
       "    </tr>\n",
       "    <tr>\n",
       "      <th>3</th>\n",
       "      <td>4</td>\n",
       "      <td>1931</td>\n",
       "      <td>53</td>\n",
       "      <td>Lionel Barrymore</td>\n",
       "      <td>A Free Soul</td>\n",
       "    </tr>\n",
       "    <tr>\n",
       "      <th>4</th>\n",
       "      <td>5</td>\n",
       "      <td>1932</td>\n",
       "      <td>47</td>\n",
       "      <td>Wallace Beery</td>\n",
       "      <td>The Champ</td>\n",
       "    </tr>\n",
       "    <tr>\n",
       "      <th>8</th>\n",
       "      <td>9</td>\n",
       "      <td>1936</td>\n",
       "      <td>49</td>\n",
       "      <td>Victor McLaglen</td>\n",
       "      <td>The Informer\\t</td>\n",
       "    </tr>\n",
       "    <tr>\n",
       "      <th>9</th>\n",
       "      <td>10</td>\n",
       "      <td>1937</td>\n",
       "      <td>41</td>\n",
       "      <td>Paul Muni</td>\n",
       "      <td>The Story of Louis Pasteur\\t</td>\n",
       "    </tr>\n",
       "    <tr>\n",
       "      <th>15</th>\n",
       "      <td>16</td>\n",
       "      <td>1943</td>\n",
       "      <td>43</td>\n",
       "      <td>James Cagney</td>\n",
       "      <td>Yankee Doodle Dandy\\t</td>\n",
       "    </tr>\n",
       "    <tr>\n",
       "      <th>16</th>\n",
       "      <td>17</td>\n",
       "      <td>1944</td>\n",
       "      <td>48</td>\n",
       "      <td>Paul Lukas</td>\n",
       "      <td>Watch on the Rhine\\t</td>\n",
       "    </tr>\n",
       "    <tr>\n",
       "      <th>17</th>\n",
       "      <td>18</td>\n",
       "      <td>1945</td>\n",
       "      <td>41</td>\n",
       "      <td>Bing Crosby</td>\n",
       "      <td>Going My Way</td>\n",
       "    </tr>\n",
       "    <tr>\n",
       "      <th>19</th>\n",
       "      <td>20</td>\n",
       "      <td>1947</td>\n",
       "      <td>49</td>\n",
       "      <td>Fredric March</td>\n",
       "      <td>The Best Years of Our Lives</td>\n",
       "    </tr>\n",
       "    <tr>\n",
       "      <th>20</th>\n",
       "      <td>21</td>\n",
       "      <td>1948</td>\n",
       "      <td>57</td>\n",
       "      <td>Ronald Colman</td>\n",
       "      <td>A Double Life</td>\n",
       "    </tr>\n",
       "    <tr>\n",
       "      <th>21</th>\n",
       "      <td>22</td>\n",
       "      <td>1949</td>\n",
       "      <td>41</td>\n",
       "      <td>Laurence Olivier</td>\n",
       "      <td>Hamlet</td>\n",
       "    </tr>\n",
       "    <tr>\n",
       "      <th>24</th>\n",
       "      <td>25</td>\n",
       "      <td>1952</td>\n",
       "      <td>52</td>\n",
       "      <td>Humphrey Bogart</td>\n",
       "      <td>The African Queen</td>\n",
       "    </tr>\n",
       "    <tr>\n",
       "      <th>25</th>\n",
       "      <td>26</td>\n",
       "      <td>1953</td>\n",
       "      <td>51</td>\n",
       "      <td>Gary Cooper</td>\n",
       "      <td>High Noon</td>\n",
       "    </tr>\n",
       "    <tr>\n",
       "      <th>30</th>\n",
       "      <td>31</td>\n",
       "      <td>1958</td>\n",
       "      <td>43</td>\n",
       "      <td>Alec Guinness</td>\n",
       "      <td>The Bridge on the River Kwai</td>\n",
       "    </tr>\n",
       "    <tr>\n",
       "      <th>31</th>\n",
       "      <td>32</td>\n",
       "      <td>1959</td>\n",
       "      <td>49</td>\n",
       "      <td>David Niven</td>\n",
       "      <td>Separate Tables</td>\n",
       "    </tr>\n",
       "    <tr>\n",
       "      <th>33</th>\n",
       "      <td>34</td>\n",
       "      <td>1961</td>\n",
       "      <td>47</td>\n",
       "      <td>Burt Lancaster</td>\n",
       "      <td>Elmer Gantry</td>\n",
       "    </tr>\n",
       "    <tr>\n",
       "      <th>35</th>\n",
       "      <td>36</td>\n",
       "      <td>1963</td>\n",
       "      <td>47</td>\n",
       "      <td>Gregory Peck</td>\n",
       "      <td>To Kill a Mockingbird</td>\n",
       "    </tr>\n",
       "    <tr>\n",
       "      <th>37</th>\n",
       "      <td>38</td>\n",
       "      <td>1965</td>\n",
       "      <td>57</td>\n",
       "      <td>Rex Harrison</td>\n",
       "      <td>My Fair Lady</td>\n",
       "    </tr>\n",
       "    <tr>\n",
       "      <th>38</th>\n",
       "      <td>39</td>\n",
       "      <td>1966</td>\n",
       "      <td>42</td>\n",
       "      <td>Lee Marvin</td>\n",
       "      <td>Cat Ballou\\t</td>\n",
       "    </tr>\n",
       "    <tr>\n",
       "      <th>39</th>\n",
       "      <td>40</td>\n",
       "      <td>1967</td>\n",
       "      <td>45</td>\n",
       "      <td>Paul Scofield</td>\n",
       "      <td>A Man for All Seasons</td>\n",
       "    </tr>\n",
       "    <tr>\n",
       "      <th>40</th>\n",
       "      <td>41</td>\n",
       "      <td>1968</td>\n",
       "      <td>42</td>\n",
       "      <td>Rod Steiger</td>\n",
       "      <td>In the Heat of the Night\\t</td>\n",
       "    </tr>\n",
       "    <tr>\n",
       "      <th>41</th>\n",
       "      <td>42</td>\n",
       "      <td>1969</td>\n",
       "      <td>45</td>\n",
       "      <td>Cliff Robertson</td>\n",
       "      <td>Charly</td>\n",
       "    </tr>\n",
       "    <tr>\n",
       "      <th>42</th>\n",
       "      <td>43</td>\n",
       "      <td>1970</td>\n",
       "      <td>62</td>\n",
       "      <td>John Wayne</td>\n",
       "      <td>True Grit</td>\n",
       "    </tr>\n",
       "    <tr>\n",
       "      <th>43</th>\n",
       "      <td>44</td>\n",
       "      <td>1971</td>\n",
       "      <td>43</td>\n",
       "      <td>George C. Scott</td>\n",
       "      <td>Patton</td>\n",
       "    </tr>\n",
       "    <tr>\n",
       "      <th>44</th>\n",
       "      <td>45</td>\n",
       "      <td>1972</td>\n",
       "      <td>42</td>\n",
       "      <td>Gene Hackman</td>\n",
       "      <td>The French Connection</td>\n",
       "    </tr>\n",
       "    <tr>\n",
       "      <th>45</th>\n",
       "      <td>46</td>\n",
       "      <td>1973</td>\n",
       "      <td>48</td>\n",
       "      <td>Marlon Brando</td>\n",
       "      <td>The Godfather</td>\n",
       "    </tr>\n",
       "    <tr>\n",
       "      <th>46</th>\n",
       "      <td>47</td>\n",
       "      <td>1974</td>\n",
       "      <td>49</td>\n",
       "      <td>Jack Lemmon</td>\n",
       "      <td>Save the Tiger</td>\n",
       "    </tr>\n",
       "    <tr>\n",
       "      <th>47</th>\n",
       "      <td>48</td>\n",
       "      <td>1975</td>\n",
       "      <td>56</td>\n",
       "      <td>Art Carney</td>\n",
       "      <td>Harry and Tonto</td>\n",
       "    </tr>\n",
       "    <tr>\n",
       "      <th>49</th>\n",
       "      <td>50</td>\n",
       "      <td>1977</td>\n",
       "      <td>60</td>\n",
       "      <td>Peter Finch</td>\n",
       "      <td>Network</td>\n",
       "    </tr>\n",
       "    <tr>\n",
       "      <th>52</th>\n",
       "      <td>53</td>\n",
       "      <td>1980</td>\n",
       "      <td>42</td>\n",
       "      <td>Dustin Hoffman</td>\n",
       "      <td>Kramer vs. Kramer</td>\n",
       "    </tr>\n",
       "    <tr>\n",
       "      <th>54</th>\n",
       "      <td>55</td>\n",
       "      <td>1982</td>\n",
       "      <td>76</td>\n",
       "      <td>Henry Fonda</td>\n",
       "      <td>On Golden Pond</td>\n",
       "    </tr>\n",
       "    <tr>\n",
       "      <th>56</th>\n",
       "      <td>57</td>\n",
       "      <td>1984</td>\n",
       "      <td>53</td>\n",
       "      <td>Robert Duvall</td>\n",
       "      <td>Tender Mercies</td>\n",
       "    </tr>\n",
       "    <tr>\n",
       "      <th>57</th>\n",
       "      <td>58</td>\n",
       "      <td>1985</td>\n",
       "      <td>45</td>\n",
       "      <td>F. Murray Abraham</td>\n",
       "      <td>Amadeus</td>\n",
       "    </tr>\n",
       "    <tr>\n",
       "      <th>59</th>\n",
       "      <td>60</td>\n",
       "      <td>1987</td>\n",
       "      <td>62</td>\n",
       "      <td>Paul Newman</td>\n",
       "      <td>The Color of Money</td>\n",
       "    </tr>\n",
       "    <tr>\n",
       "      <th>60</th>\n",
       "      <td>61</td>\n",
       "      <td>1988</td>\n",
       "      <td>43</td>\n",
       "      <td>Michael Douglas</td>\n",
       "      <td>Wall Street</td>\n",
       "    </tr>\n",
       "    <tr>\n",
       "      <th>61</th>\n",
       "      <td>62</td>\n",
       "      <td>1989</td>\n",
       "      <td>51</td>\n",
       "      <td>Dustin Hoffman</td>\n",
       "      <td>Rain Man</td>\n",
       "    </tr>\n",
       "    <tr>\n",
       "      <th>63</th>\n",
       "      <td>64</td>\n",
       "      <td>1991</td>\n",
       "      <td>42</td>\n",
       "      <td>Jeremy Irons</td>\n",
       "      <td>Reversal of Fortune</td>\n",
       "    </tr>\n",
       "    <tr>\n",
       "      <th>64</th>\n",
       "      <td>65</td>\n",
       "      <td>1992</td>\n",
       "      <td>54</td>\n",
       "      <td>Anthony Hopkins</td>\n",
       "      <td>The Silence of the Lambs</td>\n",
       "    </tr>\n",
       "    <tr>\n",
       "      <th>65</th>\n",
       "      <td>66</td>\n",
       "      <td>1993</td>\n",
       "      <td>52</td>\n",
       "      <td>Al Pacino</td>\n",
       "      <td>Scent of a Woman</td>\n",
       "    </tr>\n",
       "    <tr>\n",
       "      <th>69</th>\n",
       "      <td>70</td>\n",
       "      <td>1997</td>\n",
       "      <td>45</td>\n",
       "      <td>Geoffrey Rush</td>\n",
       "      <td>Shine</td>\n",
       "    </tr>\n",
       "    <tr>\n",
       "      <th>70</th>\n",
       "      <td>71</td>\n",
       "      <td>1998</td>\n",
       "      <td>60</td>\n",
       "      <td>Jack Nicholson</td>\n",
       "      <td>As Good as It Gets</td>\n",
       "    </tr>\n",
       "    <tr>\n",
       "      <th>71</th>\n",
       "      <td>72</td>\n",
       "      <td>1999</td>\n",
       "      <td>46</td>\n",
       "      <td>Roberto Benigni</td>\n",
       "      <td>Life Is Beautiful</td>\n",
       "    </tr>\n",
       "    <tr>\n",
       "      <th>74</th>\n",
       "      <td>75</td>\n",
       "      <td>2002</td>\n",
       "      <td>47</td>\n",
       "      <td>Denzel Washington</td>\n",
       "      <td>Training Day\\t</td>\n",
       "    </tr>\n",
       "    <tr>\n",
       "      <th>76</th>\n",
       "      <td>77</td>\n",
       "      <td>2004</td>\n",
       "      <td>43</td>\n",
       "      <td>Sean Penn</td>\n",
       "      <td>Mystic River</td>\n",
       "    </tr>\n",
       "    <tr>\n",
       "      <th>79</th>\n",
       "      <td>80</td>\n",
       "      <td>2007</td>\n",
       "      <td>45</td>\n",
       "      <td>Forest Whitaker</td>\n",
       "      <td>The Last King of Scotland\\t</td>\n",
       "    </tr>\n",
       "    <tr>\n",
       "      <th>80</th>\n",
       "      <td>81</td>\n",
       "      <td>2008</td>\n",
       "      <td>50</td>\n",
       "      <td>Daniel Day-Lewis</td>\n",
       "      <td>There Will Be Blood</td>\n",
       "    </tr>\n",
       "    <tr>\n",
       "      <th>81</th>\n",
       "      <td>82</td>\n",
       "      <td>2009</td>\n",
       "      <td>48</td>\n",
       "      <td>Sean Penn</td>\n",
       "      <td>Milk</td>\n",
       "    </tr>\n",
       "    <tr>\n",
       "      <th>82</th>\n",
       "      <td>83</td>\n",
       "      <td>2010</td>\n",
       "      <td>60</td>\n",
       "      <td>Jeff Bridges</td>\n",
       "      <td>Crazy Heart</td>\n",
       "    </tr>\n",
       "    <tr>\n",
       "      <th>83</th>\n",
       "      <td>84</td>\n",
       "      <td>2011</td>\n",
       "      <td>50</td>\n",
       "      <td>Colin Firth</td>\n",
       "      <td>The King's Speech\\t</td>\n",
       "    </tr>\n",
       "    <tr>\n",
       "      <th>85</th>\n",
       "      <td>86</td>\n",
       "      <td>2013</td>\n",
       "      <td>55</td>\n",
       "      <td>Daniel Day-Lewis</td>\n",
       "      <td>Lincoln</td>\n",
       "    </tr>\n",
       "    <tr>\n",
       "      <th>86</th>\n",
       "      <td>87</td>\n",
       "      <td>2014</td>\n",
       "      <td>44</td>\n",
       "      <td>Matthew McConaughey</td>\n",
       "      <td>Dallas Buyers Club</td>\n",
       "    </tr>\n",
       "    <tr>\n",
       "      <th>88</th>\n",
       "      <td>89</td>\n",
       "      <td>2016</td>\n",
       "      <td>41</td>\n",
       "      <td>Leonardo DiCaprio</td>\n",
       "      <td>The Revenant</td>\n",
       "    </tr>\n",
       "  </tbody>\n",
       "</table>\n",
       "</div>"
      ],
      "text/plain": [
       "    Index  Year  Age                 Name  \\\n",
       "0       1  1928   44        Emil Jannings   \n",
       "1       2  1929   41        Warner Baxter   \n",
       "2       3  1930   62        George Arliss   \n",
       "3       4  1931   53     Lionel Barrymore   \n",
       "4       5  1932   47        Wallace Beery   \n",
       "8       9  1936   49      Victor McLaglen   \n",
       "9      10  1937   41            Paul Muni   \n",
       "15     16  1943   43         James Cagney   \n",
       "16     17  1944   48           Paul Lukas   \n",
       "17     18  1945   41          Bing Crosby   \n",
       "19     20  1947   49        Fredric March   \n",
       "20     21  1948   57        Ronald Colman   \n",
       "21     22  1949   41     Laurence Olivier   \n",
       "24     25  1952   52      Humphrey Bogart   \n",
       "25     26  1953   51          Gary Cooper   \n",
       "30     31  1958   43        Alec Guinness   \n",
       "31     32  1959   49          David Niven   \n",
       "33     34  1961   47       Burt Lancaster   \n",
       "35     36  1963   47         Gregory Peck   \n",
       "37     38  1965   57         Rex Harrison   \n",
       "38     39  1966   42           Lee Marvin   \n",
       "39     40  1967   45        Paul Scofield   \n",
       "40     41  1968   42          Rod Steiger   \n",
       "41     42  1969   45      Cliff Robertson   \n",
       "42     43  1970   62           John Wayne   \n",
       "43     44  1971   43      George C. Scott   \n",
       "44     45  1972   42         Gene Hackman   \n",
       "45     46  1973   48        Marlon Brando   \n",
       "46     47  1974   49          Jack Lemmon   \n",
       "47     48  1975   56           Art Carney   \n",
       "49     50  1977   60          Peter Finch   \n",
       "52     53  1980   42       Dustin Hoffman   \n",
       "54     55  1982   76          Henry Fonda   \n",
       "56     57  1984   53        Robert Duvall   \n",
       "57     58  1985   45    F. Murray Abraham   \n",
       "59     60  1987   62          Paul Newman   \n",
       "60     61  1988   43      Michael Douglas   \n",
       "61     62  1989   51       Dustin Hoffman   \n",
       "63     64  1991   42         Jeremy Irons   \n",
       "64     65  1992   54      Anthony Hopkins   \n",
       "65     66  1993   52            Al Pacino   \n",
       "69     70  1997   45        Geoffrey Rush   \n",
       "70     71  1998   60       Jack Nicholson   \n",
       "71     72  1999   46      Roberto Benigni   \n",
       "74     75  2002   47    Denzel Washington   \n",
       "76     77  2004   43            Sean Penn   \n",
       "79     80  2007   45      Forest Whitaker   \n",
       "80     81  2008   50     Daniel Day-Lewis   \n",
       "81     82  2009   48            Sean Penn   \n",
       "82     83  2010   60         Jeff Bridges   \n",
       "83     84  2011   50          Colin Firth   \n",
       "85     86  2013   55     Daniel Day-Lewis   \n",
       "86     87  2014   44  Matthew McConaughey   \n",
       "88     89  2016   41    Leonardo DiCaprio   \n",
       "\n",
       "                                     Movie  \n",
       "0   The Last Command, The Way of All Flesh  \n",
       "1                           In Old Arizona  \n",
       "2                                 Disraeli  \n",
       "3                              A Free Soul  \n",
       "4                                The Champ  \n",
       "8                           The Informer\\t  \n",
       "9             The Story of Louis Pasteur\\t  \n",
       "15                   Yankee Doodle Dandy\\t  \n",
       "16                    Watch on the Rhine\\t  \n",
       "17                            Going My Way  \n",
       "19             The Best Years of Our Lives  \n",
       "20                           A Double Life  \n",
       "21                                  Hamlet  \n",
       "24                       The African Queen  \n",
       "25                               High Noon  \n",
       "30            The Bridge on the River Kwai  \n",
       "31                         Separate Tables  \n",
       "33                            Elmer Gantry  \n",
       "35                   To Kill a Mockingbird  \n",
       "37                            My Fair Lady  \n",
       "38                            Cat Ballou\\t  \n",
       "39                   A Man for All Seasons  \n",
       "40              In the Heat of the Night\\t  \n",
       "41                                  Charly  \n",
       "42                               True Grit  \n",
       "43                                  Patton  \n",
       "44                   The French Connection  \n",
       "45                           The Godfather  \n",
       "46                          Save the Tiger  \n",
       "47                         Harry and Tonto  \n",
       "49                                 Network  \n",
       "52                       Kramer vs. Kramer  \n",
       "54                          On Golden Pond  \n",
       "56                          Tender Mercies  \n",
       "57                                 Amadeus  \n",
       "59                      The Color of Money  \n",
       "60                             Wall Street  \n",
       "61                                Rain Man  \n",
       "63                     Reversal of Fortune  \n",
       "64                The Silence of the Lambs  \n",
       "65                        Scent of a Woman  \n",
       "69                                   Shine  \n",
       "70                      As Good as It Gets  \n",
       "71                       Life Is Beautiful  \n",
       "74                          Training Day\\t  \n",
       "76                            Mystic River  \n",
       "79             The Last King of Scotland\\t  \n",
       "80                     There Will Be Blood  \n",
       "81                                    Milk  \n",
       "82                             Crazy Heart  \n",
       "83                     The King's Speech\\t  \n",
       "85                                 Lincoln  \n",
       "86                      Dallas Buyers Club  \n",
       "88                            The Revenant  "
      ]
     },
     "execution_count": 56,
     "metadata": {},
     "output_type": "execute_result"
    }
   ],
   "source": [
    "df.loc[df['Age'] > 40]\n"
   ]
  }
 ],
 "metadata": {
  "interpreter": {
   "hash": "b3ba2566441a7c06988d0923437866b63cedc61552a5af99d1f4fb67d367b25f"
  },
  "kernelspec": {
   "display_name": "Python 3.9.7 64-bit ('base': conda)",
   "language": "python",
   "name": "python3"
  },
  "language_info": {
   "codemirror_mode": {
    "name": "ipython",
    "version": 3
   },
   "file_extension": ".py",
   "mimetype": "text/x-python",
   "name": "python",
   "nbconvert_exporter": "python",
   "pygments_lexer": "ipython3",
   "version": "3.9.7"
  },
  "orig_nbformat": 4
 },
 "nbformat": 4,
 "nbformat_minor": 2
}
